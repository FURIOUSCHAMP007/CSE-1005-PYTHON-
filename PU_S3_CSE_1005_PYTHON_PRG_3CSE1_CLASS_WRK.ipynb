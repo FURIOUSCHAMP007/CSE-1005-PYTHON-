{
  "nbformat": 4,
  "nbformat_minor": 0,
  "metadata": {
    "colab": {
      "provenance": [],
      "authorship_tag": "ABX9TyNc7KT32495zcuqmgwKqN7S",
      "include_colab_link": true
    },
    "kernelspec": {
      "name": "python3",
      "display_name": "Python 3"
    },
    "language_info": {
      "name": "python"
    }
  },
  "cells": [
    {
      "cell_type": "markdown",
      "metadata": {
        "id": "view-in-github",
        "colab_type": "text"
      },
      "source": [
        "<a href=\"https://colab.research.google.com/github/FURIOUSCHAMP007/CSE-1005-PYTHON-/blob/main/PU_S3_CSE_1005_PYTHON_PRG_3CSE1_CLASS_WRK.ipynb\" target=\"_parent\"><img src=\"https://colab.research.google.com/assets/colab-badge.svg\" alt=\"Open In Colab\"/></a>"
      ]
    },
    {
      "cell_type": "markdown",
      "source": [
        "Python Introduction\n",
        "https://www.w3schools.com/python/python_intro.asp"
      ],
      "metadata": {
        "id": "vOsViOcA3Alm"
      }
    },
    {
      "cell_type": "markdown",
      "source": [
        "\n",
        "LAB - 05/09/2023\n"
      ],
      "metadata": {
        "id": "UugB_y8kDvjd"
      }
    },
    {
      "cell_type": "markdown",
      "source": [
        "NONE DATA TYPE - https://www.w3schools.com/python/ref_keyword_none.asp\n"
      ],
      "metadata": {
        "id": "WSW4W_Ss-B6C"
      }
    },
    {
      "cell_type": "code",
      "source": [
        "a=None"
      ],
      "metadata": {
        "id": "knerbj3Z7oBa"
      },
      "execution_count": null,
      "outputs": []
    },
    {
      "cell_type": "code",
      "source": [
        "print(type(a))"
      ],
      "metadata": {
        "colab": {
          "base_uri": "https://localhost:8080/"
        },
        "id": "nHSH_fdA7tfK",
        "outputId": "7efa433a-906b-4cb9-94b1-a90acf3f1204"
      },
      "execution_count": null,
      "outputs": [
        {
          "output_type": "stream",
          "name": "stdout",
          "text": [
            "<class 'NoneType'>\n"
          ]
        }
      ]
    },
    {
      "cell_type": "code",
      "source": [
        "a=\"\""
      ],
      "metadata": {
        "id": "DMM8E29N7vrB"
      },
      "execution_count": null,
      "outputs": []
    },
    {
      "cell_type": "code",
      "source": [
        "print(type(a))"
      ],
      "metadata": {
        "colab": {
          "base_uri": "https://localhost:8080/"
        },
        "id": "MLPJywh_70xL",
        "outputId": "c053cde9-88de-4856-de43-91c00b447b45"
      },
      "execution_count": null,
      "outputs": [
        {
          "output_type": "stream",
          "name": "stdout",
          "text": [
            "<class 'str'>\n"
          ]
        }
      ]
    },
    {
      "cell_type": "code",
      "source": [
        "a=0"
      ],
      "metadata": {
        "id": "heoA7uCt76p_"
      },
      "execution_count": null,
      "outputs": []
    },
    {
      "cell_type": "code",
      "source": [
        "print(type(a))"
      ],
      "metadata": {
        "colab": {
          "base_uri": "https://localhost:8080/"
        },
        "id": "Qwa0mbyB7-ba",
        "outputId": "7b73fc05-f01c-4827-dac6-a8022ad5fe67"
      },
      "execution_count": null,
      "outputs": [
        {
          "output_type": "stream",
          "name": "stdout",
          "text": [
            "<class 'int'>\n"
          ]
        }
      ]
    },
    {
      "cell_type": "code",
      "source": [
        "a="
      ],
      "metadata": {
        "colab": {
          "base_uri": "https://localhost:8080/",
          "height": 141
        },
        "id": "IP8F63F18AuT",
        "outputId": "11a4ce08-166e-4c84-a2a3-75e9c26068c7"
      },
      "execution_count": null,
      "outputs": [
        {
          "output_type": "error",
          "ename": "SyntaxError",
          "evalue": "ignored",
          "traceback": [
            "\u001b[0;36m  File \u001b[0;32m\"<ipython-input-8-2d920c342ece>\"\u001b[0;36m, line \u001b[0;32m1\u001b[0m\n\u001b[0;31m    a=\u001b[0m\n\u001b[0m      ^\u001b[0m\n\u001b[0;31mSyntaxError\u001b[0m\u001b[0;31m:\u001b[0m invalid syntax\n"
          ]
        }
      ]
    },
    {
      "cell_type": "markdown",
      "source": [
        "BOOLEAN DATA TYPE - https://www.w3schools.com/python/python_booleans.asp"
      ],
      "metadata": {
        "id": "WJ43zz0q98rS"
      }
    },
    {
      "cell_type": "code",
      "source": [
        "bool(10>3)"
      ],
      "metadata": {
        "colab": {
          "base_uri": "https://localhost:8080/"
        },
        "id": "Vo4_KBtC8LOi",
        "outputId": "262901e0-7901-4ba0-c05c-5c5a1b4d2547"
      },
      "execution_count": null,
      "outputs": [
        {
          "output_type": "execute_result",
          "data": {
            "text/plain": [
              "True"
            ]
          },
          "metadata": {},
          "execution_count": 15
        }
      ]
    },
    {
      "cell_type": "code",
      "source": [
        "bool(10<3)"
      ],
      "metadata": {
        "colab": {
          "base_uri": "https://localhost:8080/"
        },
        "id": "LzJEPkqs9ikQ",
        "outputId": "24cf9b7e-b045-47c1-8161-d844d051a46a"
      },
      "execution_count": null,
      "outputs": [
        {
          "output_type": "execute_result",
          "data": {
            "text/plain": [
              "False"
            ]
          },
          "metadata": {},
          "execution_count": 16
        }
      ]
    },
    {
      "cell_type": "markdown",
      "source": [
        "NUMERIC DATA TYPE - https://www.w3schools.com/python/python_numbers.asp"
      ],
      "metadata": {
        "id": "2_2qO7BJ97eF"
      }
    },
    {
      "cell_type": "code",
      "source": [
        "a=10"
      ],
      "metadata": {
        "id": "jmA_gakg9l-3"
      },
      "execution_count": null,
      "outputs": []
    },
    {
      "cell_type": "code",
      "source": [
        "float(a)"
      ],
      "metadata": {
        "colab": {
          "base_uri": "https://localhost:8080/"
        },
        "id": "_DcSIKQM-VBT",
        "outputId": "3ceb2f2d-04b1-4a4d-a760-c2f4fcb84761"
      },
      "execution_count": null,
      "outputs": [
        {
          "output_type": "execute_result",
          "data": {
            "text/plain": [
              "10.0"
            ]
          },
          "metadata": {},
          "execution_count": 18
        }
      ]
    },
    {
      "cell_type": "markdown",
      "source": [
        "INPUT - https://www.w3schools.com/python/ref_func_input.asp  / OUTPUT - https://www.w3schools.com/python/python_variables_output.asp"
      ],
      "metadata": {
        "id": "yQmyef_nAp1Q"
      }
    },
    {
      "cell_type": "markdown",
      "source": [],
      "metadata": {
        "id": "Hgl-6rx2Ds7s"
      }
    },
    {
      "cell_type": "code",
      "source": [
        "a=x = input('Enter your name:')\n",
        "print('Hello, ' + x)"
      ],
      "metadata": {
        "colab": {
          "base_uri": "https://localhost:8080/"
        },
        "id": "ykvms9Mt-WmG",
        "outputId": "16bc1ac3-5a58-48f1-89a8-7762ed00a301"
      },
      "execution_count": null,
      "outputs": [
        {
          "output_type": "stream",
          "name": "stdout",
          "text": [
            "Enter your name:faizan\n",
            "Hello, faizan\n"
          ]
        }
      ]
    },
    {
      "cell_type": "code",
      "source": [
        "x = \"Python\"\n",
        "y = \"is\"\n",
        "z = \"awesome\"\n",
        "print(x, y, z)"
      ],
      "metadata": {
        "colab": {
          "base_uri": "https://localhost:8080/"
        },
        "id": "hqhEQaVADUwj",
        "outputId": "bf7615a1-2bd5-4e66-99e5-0602cbe7bfe7"
      },
      "execution_count": null,
      "outputs": [
        {
          "output_type": "stream",
          "name": "stdout",
          "text": [
            "Python is awesome\n"
          ]
        }
      ]
    },
    {
      "cell_type": "code",
      "source": [
        "x = \"Python \"\n",
        "y = \"is \"\n",
        "z = \"awesome\"\n",
        "print(x + y + z)"
      ],
      "metadata": {
        "colab": {
          "base_uri": "https://localhost:8080/"
        },
        "id": "O84rDEjzDb_5",
        "outputId": "86f236af-c31f-457c-c6b2-ea9ba589736a"
      },
      "execution_count": null,
      "outputs": [
        {
          "output_type": "stream",
          "name": "stdout",
          "text": [
            "Python is awesome\n"
          ]
        }
      ]
    },
    {
      "cell_type": "markdown",
      "source": [
        "LAB-7/9/23- FORMART METHOD - https://www.w3schools.com/python/ref_string_format.asp"
      ],
      "metadata": {
        "id": "FO0LEEOJIqka"
      }
    },
    {
      "cell_type": "code",
      "source": [
        "a=10\n",
        "b=20\n",
        "c=a+b"
      ],
      "metadata": {
        "id": "IZY3ozTnIPfJ"
      },
      "execution_count": null,
      "outputs": []
    },
    {
      "cell_type": "code",
      "source": [
        "c"
      ],
      "metadata": {
        "colab": {
          "base_uri": "https://localhost:8080/"
        },
        "id": "SdlCvetzIkVX",
        "outputId": "e2102c06-7c1f-4336-9ffd-c33829285e8d"
      },
      "execution_count": null,
      "outputs": [
        {
          "output_type": "execute_result",
          "data": {
            "text/plain": [
              "30"
            ]
          },
          "metadata": {},
          "execution_count": 7
        }
      ]
    },
    {
      "cell_type": "code",
      "source": [
        "print(\"the sum of {} and {} is {}\".format(a,b,c))"
      ],
      "metadata": {
        "colab": {
          "base_uri": "https://localhost:8080/"
        },
        "id": "lL0qZHOPIotR",
        "outputId": "ee083ec3-c784-49e7-d8cf-852f9d26a69e"
      },
      "execution_count": null,
      "outputs": [
        {
          "output_type": "stream",
          "name": "stdout",
          "text": [
            "the sum of 10 and 20 is 30\n"
          ]
        }
      ]
    },
    {
      "cell_type": "code",
      "source": [
        "a=\"sathvik\"\n",
        "\n",
        "print(f\"{a} is the CR\")"
      ],
      "metadata": {
        "id": "aKwcNBQW7ALu",
        "colab": {
          "base_uri": "https://localhost:8080/"
        },
        "outputId": "fbb58c9b-ead2-40bd-ea49-534986c61645"
      },
      "execution_count": null,
      "outputs": [
        {
          "output_type": "stream",
          "name": "stdout",
          "text": [
            "sathvik is the CR\n"
          ]
        }
      ]
    },
    {
      "cell_type": "code",
      "source": [
        "a=10\n",
        "print(a)\n",
        "print(\"%i\"%a)"
      ],
      "metadata": {
        "colab": {
          "base_uri": "https://localhost:8080/"
        },
        "id": "KFZKcGglJl08",
        "outputId": "1320829b-cda9-4c26-9f26-a849bd0598a4"
      },
      "execution_count": null,
      "outputs": [
        {
          "output_type": "stream",
          "name": "stdout",
          "text": [
            "10\n",
            "10\n"
          ]
        }
      ]
    },
    {
      "cell_type": "code",
      "source": [
        "a=\"abc\"\n",
        "print(a)\n",
        "print(\"%s\"%a)"
      ],
      "metadata": {
        "colab": {
          "base_uri": "https://localhost:8080/"
        },
        "id": "Ol9P3ROwMcAa",
        "outputId": "ee6a30da-77a4-49d9-d547-f9f3d0cb7a45"
      },
      "execution_count": null,
      "outputs": [
        {
          "output_type": "stream",
          "name": "stdout",
          "text": [
            "abc\n",
            "abc\n"
          ]
        }
      ]
    },
    {
      "cell_type": "code",
      "source": [
        "a=10.00\n",
        "print(a)\n",
        "print(\"%f\"%a)"
      ],
      "metadata": {
        "colab": {
          "base_uri": "https://localhost:8080/"
        },
        "id": "La_bQQhWM2ne",
        "outputId": "0ded66da-c18d-48d8-8e03-3c2a3e6148b2"
      },
      "execution_count": null,
      "outputs": [
        {
          "output_type": "stream",
          "name": "stdout",
          "text": [
            "10.0\n",
            "10.000000\n"
          ]
        }
      ]
    },
    {
      "cell_type": "code",
      "source": [
        "a=\"faizan\"\n",
        "print(\"%20s\"%a)"
      ],
      "metadata": {
        "colab": {
          "base_uri": "https://localhost:8080/"
        },
        "id": "i2pT2vnkNA0x",
        "outputId": "cec04f46-7575-493c-8fef-d81b5476a5c2"
      },
      "execution_count": null,
      "outputs": [
        {
          "output_type": "stream",
          "name": "stdout",
          "text": [
            "              faizan\n"
          ]
        }
      ]
    },
    {
      "cell_type": "code",
      "source": [
        "a=\"faizan\"\n",
        "print(\"%-20s\"%a)"
      ],
      "metadata": {
        "id": "Qj7BbJVYNu5z",
        "outputId": "9e193ff9-b3d4-4d95-9012-f2bd3fd877fa",
        "colab": {
          "base_uri": "https://localhost:8080/"
        }
      },
      "execution_count": null,
      "outputs": [
        {
          "output_type": "stream",
          "name": "stdout",
          "text": [
            "faizan              \n"
          ]
        }
      ]
    },
    {
      "cell_type": "markdown",
      "source": [
        "CONTROL FLOW CONSTRUCTS-\n",
        "\n",
        "1.   CONDINATIONAL-\n",
        "  if,\n",
        "  if ... else ,\n",
        "  multiple if,\n",
        "  elif construct,\n",
        "  Nested if ... else construct,\n",
        "https://www.w3schools.com/python/python_conditions.asp\n",
        "\n",
        "\n",
        "\n",
        "2.   ITERATIVE-https://www.w3schools.com/python/python_iterators.asp\n",
        "\n",
        "\n",
        "\n",
        "                   \n",
        "https://www.w3schools.com/python/python_while_loops.asp\n",
        "                                         \n",
        "https://www.w3schools.com/python/python_for_loops.asp\n",
        "\n",
        "\n"
      ],
      "metadata": {
        "id": "M_zGP6SA6TUm"
      }
    },
    {
      "cell_type": "code",
      "source": [
        "#Python Conditions and If statements\n",
        "a = 33\n",
        "b = 200\n",
        "if b > a:\n",
        "  print(\"b is greater than a\")"
      ],
      "metadata": {
        "colab": {
          "base_uri": "https://localhost:8080/"
        },
        "id": "V8SjDPjAP2CE",
        "outputId": "3222793e-82b8-4e0e-8d5e-d078c790f80a"
      },
      "execution_count": null,
      "outputs": [
        {
          "output_type": "stream",
          "name": "stdout",
          "text": [
            "b is greater than a\n"
          ]
        }
      ]
    },
    {
      "cell_type": "code",
      "source": [
        "#Short Hand If ... Else\n",
        "#If you have only one statement to execute, one for if, and one for else, you can put it all on the same line:\n",
        "\n",
        "#Example\n",
        "#One line if else statement:\n",
        "\n",
        "a = 2\n",
        "b = 330\n",
        "print(\"A\") if a > b else print(\"B\")"
      ],
      "metadata": {
        "colab": {
          "base_uri": "https://localhost:8080/"
        },
        "id": "NuRFlPsYP_uW",
        "outputId": "ac51cf0a-c743-4b3f-c615-2c2c827854a8"
      },
      "execution_count": null,
      "outputs": [
        {
          "output_type": "stream",
          "name": "stdout",
          "text": [
            "B\n"
          ]
        }
      ]
    },
    {
      "cell_type": "code",
      "source": [
        "# WRITE A PRG TO PRINT GREATER NO BETWEEN 2 NOS\n",
        "\n",
        "a=10\n",
        "b=20\n",
        "if (b>a):\n",
        "  print(f\"20 greater than {a}\")\n",
        "else:\n",
        "  print(f\"greater than {b}\")\n"
      ],
      "metadata": {
        "colab": {
          "base_uri": "https://localhost:8080/"
        },
        "id": "7xEEwjhqQyMo",
        "outputId": "259cffd7-93ca-4549-c38b-c066e813afbe"
      },
      "execution_count": null,
      "outputs": [
        {
          "output_type": "stream",
          "name": "stdout",
          "text": [
            "20 greater than 10\n"
          ]
        }
      ]
    },
    {
      "cell_type": "code",
      "source": [
        "# WRITE A PRG TO PRINT GREATER NO BETWEEN 2 NOS USING INPUT\n",
        "\n",
        "a=int(input())\n",
        "b=int(input())\n",
        "if (b>a):\n",
        "  print(f\"a greater than {a}\")\n",
        "else:\n",
        "  print(f\"b greater than {b}\")\n"
      ],
      "metadata": {
        "colab": {
          "base_uri": "https://localhost:8080/"
        },
        "id": "U9udv6P-TxG0",
        "outputId": "23117d8c-d3be-425b-e9a7-95200eb95f0a"
      },
      "execution_count": null,
      "outputs": [
        {
          "output_type": "stream",
          "name": "stdout",
          "text": [
            "10\n",
            "20\n",
            "20 greater than 10\n"
          ]
        }
      ]
    },
    {
      "cell_type": "code",
      "source": [
        "# Python program to find the\n",
        "# maximum of two numbers\n",
        "\n",
        "\n",
        "def maximum(a, b):\n",
        "\n",
        "\tif a >= b:\n",
        "\t\treturn a\n",
        "\telse:\n",
        "\t\treturn b\n",
        "\n",
        "# Driver code\n",
        "a = 2\n",
        "b = 4\n",
        "print(maximum(a, b))\n"
      ],
      "metadata": {
        "colab": {
          "base_uri": "https://localhost:8080/"
        },
        "id": "R1_dwMBURJsy",
        "outputId": "731f8685-130d-4b06-d317-e57014ab7ce4"
      },
      "execution_count": null,
      "outputs": [
        {
          "output_type": "stream",
          "name": "stdout",
          "text": [
            "4\n"
          ]
        }
      ]
    },
    {
      "cell_type": "code",
      "source": [
        "x = 100\n",
        "y = 400\n",
        "sum = x+y\n",
        "print(sum)\n",
        "if (sum == 300):\n",
        "    print(\"HELLO\")\n",
        "elif(sum ==200):\n",
        "    print(\"BYE\")\n",
        "else:\n",
        "  print(\"FINE\")"
      ],
      "metadata": {
        "colab": {
          "base_uri": "https://localhost:8080/"
        },
        "id": "VHr2xb0YTJtg",
        "outputId": "d31546d7-5db6-4c1e-f882-9eef4e88a59e"
      },
      "execution_count": null,
      "outputs": [
        {
          "output_type": "stream",
          "name": "stdout",
          "text": [
            "500\n",
            "FINE\n"
          ]
        }
      ]
    },
    {
      "cell_type": "code",
      "source": [
        "# WRITE A PRG TO PRINT CONDITIONS BETWEEN 2 NOS USING INPUT\n",
        "\n",
        "a=int(input())\n",
        "b=int(input())\n",
        "if (a>b):\n",
        "  print(\"A is greater\")\n",
        "elif(b>a):\n",
        "  print(\"B is greater\")\n",
        "elif(a==b):\n",
        "  print(\"Both are equal\")\n",
        "elif(a!=b):\n",
        "  print(\"Both are unequal\")"
      ],
      "metadata": {
        "colab": {
          "base_uri": "https://localhost:8080/"
        },
        "id": "EDi1K6gZTeub",
        "outputId": "117fd874-b947-461f-c2dc-ac674b7d227c"
      },
      "execution_count": null,
      "outputs": [
        {
          "output_type": "stream",
          "name": "stdout",
          "text": [
            "15\n",
            "15\n",
            "Both are equal\n"
          ]
        }
      ]
    },
    {
      "cell_type": "markdown",
      "source": [
        "# Nested if else construct/ Cascading\n"
      ],
      "metadata": {
        "id": "fAKhzGJUZKPh"
      }
    },
    {
      "cell_type": "code",
      "source": [
        "# Nested if else construct/ Cascading - Syntax\n",
        "\n",
        "\"\"\"if (condition):\n",
        "  if(condition):\n",
        "    ext stmt\n",
        "else:\n",
        "    ext smt\n",
        "else:\n",
        "  ext smt \"\"\""
      ],
      "metadata": {
        "id": "WJ7dfX_MWiL1"
      },
      "execution_count": null,
      "outputs": []
    },
    {
      "cell_type": "code",
      "source": [
        "# Q IF UR FRM CSE DEPT AND U HAVE 65%+ UR ELIGIBLE\n",
        "department = input(\"Enter your department: \")\n",
        "percentage = float(input(\"Enter your percentage: \"))\n",
        "\n",
        "# Check eligibility criteria\n",
        "if department.lower() == \"cse\" and percentage >= 65:\n",
        "    print(\"You are eligible.\")\n",
        "else:\n",
        "    print(\"You are not eligible.\")\n"
      ],
      "metadata": {
        "colab": {
          "base_uri": "https://localhost:8080/"
        },
        "id": "TbIOS9oZYRXM",
        "outputId": "653f8e9a-0b6a-44d7-ec1f-d05899254e9b"
      },
      "execution_count": null,
      "outputs": [
        {
          "output_type": "stream",
          "name": "stdout",
          "text": [
            "Enter your department: CSE\n",
            "Enter your percentage: 66\n",
            "You are eligible.\n"
          ]
        }
      ]
    },
    {
      "cell_type": "code",
      "source": [
        "print(\"enter the branch \")\n",
        "Branch = input()\n",
        "\n",
        "\n",
        "if Branch == \"CSE\" or Branch == \"cse\":\n",
        "    print(\"enter you percentage\")\n",
        "    percentage = int(input())\n",
        "    if int(percentage) >= 65:\n",
        "        print(\"your are elligible\")\n",
        "    else:\n",
        "        print (\"you are not eligible because of less percentage\")\n",
        "else:\n",
        "    print(\"you are not elligible because of no background in CSE\")"
      ],
      "metadata": {
        "colab": {
          "base_uri": "https://localhost:8080/"
        },
        "id": "ce5XPg-vbpGx",
        "outputId": "3b75ce96-1fdc-4626-bdbb-880ab1f3a847"
      },
      "execution_count": null,
      "outputs": [
        {
          "output_type": "stream",
          "name": "stdout",
          "text": [
            "enter the branch \n",
            "ece\n",
            "you are not elligible because of no background in CSE\n"
          ]
        }
      ]
    },
    {
      "cell_type": "code",
      "source": [
        "5+3"
      ],
      "metadata": {
        "id": "Hz9SSs7Kb5gS",
        "colab": {
          "base_uri": "https://localhost:8080/"
        },
        "outputId": "495c950e-e35a-4f0a-b549-42bf484d085b"
      },
      "execution_count": null,
      "outputs": [
        {
          "output_type": "execute_result",
          "data": {
            "text/plain": [
              "8"
            ]
          },
          "metadata": {},
          "execution_count": 1
        }
      ]
    },
    {
      "cell_type": "markdown",
      "source": [
        "12/9/23 LAB WRK"
      ],
      "metadata": {
        "id": "4OOe1kPW3oS4"
      }
    },
    {
      "cell_type": "code",
      "source": [
        "# TO PRINT GREATEST NO AMONG THE 3 CASE -1\n",
        "b=input(\" enter the  2nd no \")\n",
        "c=input(\" enter the  3rd no \")\n",
        "\n",
        "if (a>b and a>c):\n",
        "  print(\"a is greater\")\n",
        "elif (c>a and c>b):\n",
        "  print(\"c is greater\")\n",
        "else:\n",
        "  print(\"b is greater\")\n"
      ],
      "metadata": {
        "colab": {
          "base_uri": "https://localhost:8080/"
        },
        "id": "Ytmtt46N2rUN",
        "outputId": "01eff884-42b5-4761-d10b-2ce0c4c2bb44"
      },
      "execution_count": null,
      "outputs": [
        {
          "output_type": "stream",
          "name": "stdout",
          "text": [
            " enter the  1st no 12\n",
            " enter the  2nd no 11\n",
            " enter the  3rd no 10\n",
            "a is greater\n"
          ]
        }
      ]
    },
    {
      "cell_type": "code",
      "source": [
        "# TO PRINT GREATEST NO AMONG THE 3 CASE-2\n",
        "\n",
        "a=input(\" enter the  1st no \")\n",
        "b=input(\" enter the  2nd no \")\n",
        "c=input(\" enter the  3rd no \")\n",
        "\n",
        "if (a>b and a>c):\n",
        "  print(\"a is greater\")\n",
        "elif (c>a and c>b):\n",
        "  print(\"c is greater\")\n",
        "else:\n",
        "  print(\"b is greater\")"
      ],
      "metadata": {
        "colab": {
          "base_uri": "https://localhost:8080/"
        },
        "id": "2r6R-IoJ4p4-",
        "outputId": "c3e132b0-264c-4126-cd6d-eb6901f69fc4"
      },
      "execution_count": null,
      "outputs": [
        {
          "output_type": "stream",
          "name": "stdout",
          "text": [
            " enter the  1st no 15\n",
            " enter the  2nd no 11\n",
            " enter the  3rd no 20\n",
            "c is greater\n"
          ]
        }
      ]
    },
    {
      "cell_type": "code",
      "source": [
        "# TO PRINT GREATEST NO AMONG THE 3 CASE-3\n",
        "\n",
        "a=input(\" enter the  1st no \")\n",
        "b=input(\" enter the  2nd no \")\n",
        "c=input(\" enter the  3rd no \")\n",
        "\n",
        "if (a>b and a>c):\n",
        "  print(\"a is greater\")\n",
        "elif (c>a and c>b):\n",
        "  print(\"c is greater\")\n",
        "else:\n",
        "  print (\"b is greater\")"
      ],
      "metadata": {
        "colab": {
          "base_uri": "https://localhost:8080/"
        },
        "id": "kGqEQLST4_kS",
        "outputId": "3886fc4c-3b02-4fbf-92d8-72c43034a035"
      },
      "execution_count": null,
      "outputs": [
        {
          "output_type": "stream",
          "name": "stdout",
          "text": [
            " enter the  1st no 22\n",
            " enter the  2nd no 35\n",
            " enter the  3rd no 10\n",
            "b is greater\n"
          ]
        }
      ]
    },
    {
      "cell_type": "code",
      "source": [
        " # TO PRINT GREATEST NO AMONG THE 3\n",
        " # USING NESTED IF AND ELIF\n",
        "\n",
        "a=input(\" enter the  1st no \")\n",
        "b=input(\" enter the  2nd no \")\n",
        "c=input(\" enter the  3rd no \")\n",
        "\n",
        "if(a>b):\n",
        "  if(a>c):\n",
        "       print(\"a\")\n",
        "  else:\n",
        "        print(\"c\")\n",
        "elif(b>c):\n",
        "        print(\"b\")\n",
        "\n",
        "else:\n",
        "    print(\"c\")\n",
        "\n",
        "\n"
      ],
      "metadata": {
        "colab": {
          "base_uri": "https://localhost:8080/"
        },
        "id": "ViBz9Z3a5AOD",
        "outputId": "3bef257d-4fb4-4524-a725-73cf9812f711"
      },
      "execution_count": null,
      "outputs": [
        {
          "output_type": "stream",
          "name": "stdout",
          "text": [
            " enter the  1st no 2\n",
            " enter the  2nd no 3\n",
            " enter the  3rd no 4\n",
            "c\n"
          ]
        }
      ]
    },
    {
      "cell_type": "code",
      "source": [
        "# READ 3 NOS FRM USER IF ANY OF THE 3 NOS IS = 0  THEN IT SHOULD DISPLAY THE NO MUST BE NON 0 VALUE\n",
        "\n",
        "a = int(input(\"Enter 1st number\"))\n",
        "b = int(input(\"Enter 2nd number\"))\n",
        "c = int(input(\"Enter 3rd number\"))\n",
        "\n",
        "if a == 0 or b == 0 or c == 0:\n",
        "    print(\"Enter the non zero values\")\n",
        "elif a==b==c:\n",
        "    print(\"all the values entered are equal\")\n",
        "elif a!=b or b!=c and a!=c:\n",
        "    print(\"all the values entered are different\")\n",
        "else:\n",
        "    print(\"Neither the three values are equal\")\n",
        "\n",
        "0\n"
      ],
      "metadata": {
        "colab": {
          "base_uri": "https://localhost:8080/"
        },
        "id": "CVs7Az6F-L-U",
        "outputId": "25d85174-7177-405a-d1b4-73abc2abfac2"
      },
      "execution_count": null,
      "outputs": [
        {
          "output_type": "stream",
          "name": "stdout",
          "text": [
            "Enter 1st number1\n",
            "Enter 2nd number0\n",
            "Enter 3rd number2\n",
            "Enter the non zero values\n"
          ]
        },
        {
          "output_type": "execute_result",
          "data": {
            "text/plain": [
              "0"
            ]
          },
          "metadata": {},
          "execution_count": 19
        }
      ]
    },
    {
      "cell_type": "markdown",
      "source": [
        "19/9/23- LAB - ITERATIVE CONSTUCTORS"
      ],
      "metadata": {
        "id": "Xwq1guYb4TgC"
      }
    },
    {
      "cell_type": "code",
      "source": [
        "# WRITE A PROG TO PRINT NOS FRM 1 TO 10\n",
        "\n",
        "i=1\n",
        "while(i<=10):\n",
        "  print(i,end=\" \")\n",
        "  i=i+1\n"
      ],
      "metadata": {
        "colab": {
          "base_uri": "https://localhost:8080/"
        },
        "id": "HJUovLfA5eXJ",
        "outputId": "0ac6995d-8813-4531-f918-362fea776744"
      },
      "execution_count": null,
      "outputs": [
        {
          "output_type": "stream",
          "name": "stdout",
          "text": [
            "1 2 3 4 5 6 7 8 9 10 "
          ]
        }
      ]
    },
    {
      "cell_type": "code",
      "source": [
        "# WRITE ORG TO FIND OUT +VE AND +VE\n",
        "\n",
        "n=0\n",
        "while(n<3):\n",
        "  a=int(input(\"enter a no \"))\n",
        "  if(a<0):\n",
        "    print(\"-ve\")\n",
        "  else:\n",
        "      print(\"+ve\")\n"
      ],
      "metadata": {
        "colab": {
          "base_uri": "https://localhost:8080/",
          "height": 391
        },
        "id": "a4h0lmgM92Ec",
        "outputId": "3e92e106-8e9d-4333-c090-ea7995db3470"
      },
      "execution_count": null,
      "outputs": [
        {
          "output_type": "error",
          "ename": "KeyboardInterrupt",
          "evalue": "ignored",
          "traceback": [
            "\u001b[0;31m---------------------------------------------------------------------------\u001b[0m",
            "\u001b[0;31mKeyboardInterrupt\u001b[0m                         Traceback (most recent call last)",
            "\u001b[0;32m<ipython-input-8-405a91299293>\u001b[0m in \u001b[0;36m<cell line: 4>\u001b[0;34m()\u001b[0m\n\u001b[1;32m      3\u001b[0m \u001b[0mn\u001b[0m\u001b[0;34m=\u001b[0m\u001b[0;36m0\u001b[0m\u001b[0;34m\u001b[0m\u001b[0;34m\u001b[0m\u001b[0m\n\u001b[1;32m      4\u001b[0m \u001b[0;32mwhile\u001b[0m\u001b[0;34m(\u001b[0m\u001b[0mn\u001b[0m\u001b[0;34m<\u001b[0m\u001b[0;36m3\u001b[0m\u001b[0;34m)\u001b[0m\u001b[0;34m:\u001b[0m\u001b[0;34m\u001b[0m\u001b[0;34m\u001b[0m\u001b[0m\n\u001b[0;32m----> 5\u001b[0;31m   \u001b[0ma\u001b[0m\u001b[0;34m=\u001b[0m\u001b[0mint\u001b[0m\u001b[0;34m(\u001b[0m\u001b[0minput\u001b[0m\u001b[0;34m(\u001b[0m\u001b[0;34m\"enter a no \"\u001b[0m\u001b[0;34m)\u001b[0m\u001b[0;34m)\u001b[0m\u001b[0;34m\u001b[0m\u001b[0;34m\u001b[0m\u001b[0m\n\u001b[0m\u001b[1;32m      6\u001b[0m   \u001b[0;32mif\u001b[0m\u001b[0;34m(\u001b[0m\u001b[0ma\u001b[0m\u001b[0;34m<\u001b[0m\u001b[0;36m0\u001b[0m\u001b[0;34m)\u001b[0m\u001b[0;34m:\u001b[0m\u001b[0;34m\u001b[0m\u001b[0;34m\u001b[0m\u001b[0m\n\u001b[1;32m      7\u001b[0m     \u001b[0mprint\u001b[0m\u001b[0;34m(\u001b[0m\u001b[0;34m\"-ve\"\u001b[0m\u001b[0;34m)\u001b[0m\u001b[0;34m\u001b[0m\u001b[0;34m\u001b[0m\u001b[0m\n",
            "\u001b[0;32m/usr/local/lib/python3.10/dist-packages/ipykernel/kernelbase.py\u001b[0m in \u001b[0;36mraw_input\u001b[0;34m(self, prompt)\u001b[0m\n\u001b[1;32m    849\u001b[0m                 \u001b[0;34m\"raw_input was called, but this frontend does not support input requests.\"\u001b[0m\u001b[0;34m\u001b[0m\u001b[0;34m\u001b[0m\u001b[0m\n\u001b[1;32m    850\u001b[0m             )\n\u001b[0;32m--> 851\u001b[0;31m         return self._input_request(str(prompt),\n\u001b[0m\u001b[1;32m    852\u001b[0m             \u001b[0mself\u001b[0m\u001b[0;34m.\u001b[0m\u001b[0m_parent_ident\u001b[0m\u001b[0;34m,\u001b[0m\u001b[0;34m\u001b[0m\u001b[0;34m\u001b[0m\u001b[0m\n\u001b[1;32m    853\u001b[0m             \u001b[0mself\u001b[0m\u001b[0;34m.\u001b[0m\u001b[0m_parent_header\u001b[0m\u001b[0;34m,\u001b[0m\u001b[0;34m\u001b[0m\u001b[0;34m\u001b[0m\u001b[0m\n",
            "\u001b[0;32m/usr/local/lib/python3.10/dist-packages/ipykernel/kernelbase.py\u001b[0m in \u001b[0;36m_input_request\u001b[0;34m(self, prompt, ident, parent, password)\u001b[0m\n\u001b[1;32m    893\u001b[0m             \u001b[0;32mexcept\u001b[0m \u001b[0mKeyboardInterrupt\u001b[0m\u001b[0;34m:\u001b[0m\u001b[0;34m\u001b[0m\u001b[0;34m\u001b[0m\u001b[0m\n\u001b[1;32m    894\u001b[0m                 \u001b[0;31m# re-raise KeyboardInterrupt, to truncate traceback\u001b[0m\u001b[0;34m\u001b[0m\u001b[0;34m\u001b[0m\u001b[0m\n\u001b[0;32m--> 895\u001b[0;31m                 \u001b[0;32mraise\u001b[0m \u001b[0mKeyboardInterrupt\u001b[0m\u001b[0;34m(\u001b[0m\u001b[0;34m\"Interrupted by user\"\u001b[0m\u001b[0;34m)\u001b[0m \u001b[0;32mfrom\u001b[0m \u001b[0;32mNone\u001b[0m\u001b[0;34m\u001b[0m\u001b[0;34m\u001b[0m\u001b[0m\n\u001b[0m\u001b[1;32m    896\u001b[0m             \u001b[0;32mexcept\u001b[0m \u001b[0mException\u001b[0m \u001b[0;32mas\u001b[0m \u001b[0me\u001b[0m\u001b[0;34m:\u001b[0m\u001b[0;34m\u001b[0m\u001b[0;34m\u001b[0m\u001b[0m\n\u001b[1;32m    897\u001b[0m                 \u001b[0mself\u001b[0m\u001b[0;34m.\u001b[0m\u001b[0mlog\u001b[0m\u001b[0;34m.\u001b[0m\u001b[0mwarning\u001b[0m\u001b[0;34m(\u001b[0m\u001b[0;34m\"Invalid Message:\"\u001b[0m\u001b[0;34m,\u001b[0m \u001b[0mexc_info\u001b[0m\u001b[0;34m=\u001b[0m\u001b[0;32mTrue\u001b[0m\u001b[0;34m)\u001b[0m\u001b[0;34m\u001b[0m\u001b[0;34m\u001b[0m\u001b[0m\n",
            "\u001b[0;31mKeyboardInterrupt\u001b[0m: Interrupted by user"
          ]
        }
      ]
    },
    {
      "cell_type": "markdown",
      "source": [
        "WHILE-\n"
      ],
      "metadata": {
        "id": "Z5jSb22TJeSq"
      }
    },
    {
      "cell_type": "code",
      "source": [
        "# WRITE A PRG TO FIND FACTORIAL OF NO\n",
        "\n",
        "n = int(input(\"enter the number that you want to find factorial\"))\n",
        "a =0\n",
        "c = 1\n",
        "while(a<n):\n",
        "    a += 1\n",
        "    c = c*a\n",
        "\n",
        "print(f\"the facorial of {n} is {c}\")"
      ],
      "metadata": {
        "colab": {
          "base_uri": "https://localhost:8080/"
        },
        "id": "YY-v_gjW-UqV",
        "outputId": "c1dbe395-9f20-4e5d-b7b5-edc7ce60a8a6"
      },
      "execution_count": null,
      "outputs": [
        {
          "output_type": "stream",
          "name": "stdout",
          "text": [
            "enter the number that you want to find factorial6\n",
            "the facorial of 6 is 720\n"
          ]
        }
      ]
    },
    {
      "cell_type": "markdown",
      "source": [
        "FOR LOOP-\n"
      ],
      "metadata": {
        "id": "g7U7HBxKIUWu"
      }
    },
    {
      "cell_type": "code",
      "source": [
        "a=\"Faizan\"\n",
        "for i in a:\n",
        "  print(i,end=\" \")"
      ],
      "metadata": {
        "colab": {
          "base_uri": "https://localhost:8080/"
        },
        "id": "T0WKfqb3IT5x",
        "outputId": "21382477-7424-4659-deb4-496fa2818dcd"
      },
      "execution_count": null,
      "outputs": [
        {
          "output_type": "stream",
          "name": "stdout",
          "text": [
            "F a i z a n "
          ]
        }
      ]
    },
    {
      "cell_type": "markdown",
      "source": [
        "RANGE="
      ],
      "metadata": {
        "id": "XwrBTaRrJYV1"
      }
    },
    {
      "cell_type": "code",
      "source": [
        "\n",
        "for i in range(1,11,1):\n",
        "  print(i,end=\" \")"
      ],
      "metadata": {
        "colab": {
          "base_uri": "https://localhost:8080/"
        },
        "id": "zgnKz20NIroP",
        "outputId": "8b420060-365e-426a-e0b8-a9ab5c019e31"
      },
      "execution_count": null,
      "outputs": [
        {
          "output_type": "stream",
          "name": "stdout",
          "text": [
            "1 2 3 4 5 6 7 8 9 10 "
          ]
        }
      ]
    },
    {
      "cell_type": "code",
      "source": [
        "# WRITE PRG TO PRINT EVEN NOS FRM 1 TO 20\n",
        "\n",
        "for i in range (2,21,2):\n",
        "  print(i,end=\" \")"
      ],
      "metadata": {
        "colab": {
          "base_uri": "https://localhost:8080/"
        },
        "id": "4ge2oqkOKImT",
        "outputId": "c4e55287-3f33-49d5-9648-c2a92f30179e"
      },
      "execution_count": null,
      "outputs": [
        {
          "output_type": "stream",
          "name": "stdout",
          "text": [
            "2 4 6 8 10 12 14 16 18 20 "
          ]
        }
      ]
    },
    {
      "cell_type": "code",
      "source": [
        "# WRITE PRG TO PRINT ODD NOS FRM 1 TO 20\n",
        "\n",
        "for i in range (1,20,2):\n",
        "  print(i,end=\" \")"
      ],
      "metadata": {
        "colab": {
          "base_uri": "https://localhost:8080/"
        },
        "id": "rMOe2l62KsgE",
        "outputId": "e9ba4117-f1fd-46ef-f260-a1a462f8635f"
      },
      "execution_count": null,
      "outputs": [
        {
          "output_type": "stream",
          "name": "stdout",
          "text": [
            "1 3 5 7 9 11 13 15 17 19 "
          ]
        }
      ]
    },
    {
      "cell_type": "code",
      "source": [
        "# PRINT SUM OFF ODD NOS AND EVEN NOS SEPARATELY FRM THE GIVEN LIST\n",
        "\n",
        "li = [12, 33,8, 44, 30, 55, 6]\n",
        "\n",
        "# Initialize variables to store the sums of even and odd numbers\n",
        "even_sum = 0\n",
        "odd_sum = 0\n",
        "\n",
        "# Iterate through the list and update the sums\n",
        "for num in li:\n",
        "    if num % 2 == 0:\n",
        "        even_sum += num\n",
        "    else:\n",
        "        odd_sum += num\n",
        "\n",
        "# Print the sums\n",
        "print(\"Sum of even numbers:\", even_sum)\n",
        "print(\"Sum of odd numbers:\", odd_sum)\n"
      ],
      "metadata": {
        "colab": {
          "base_uri": "https://localhost:8080/"
        },
        "id": "0YvuGCdCL4dS",
        "outputId": "558c495f-63ea-4348-f2ab-8e42db9eae1e"
      },
      "execution_count": null,
      "outputs": [
        {
          "output_type": "stream",
          "name": "stdout",
          "text": [
            "Sum of even numbers: 100\n",
            "Sum of odd numbers: 88\n"
          ]
        }
      ]
    },
    {
      "cell_type": "markdown",
      "source": [
        "21/09/23- lAB"
      ],
      "metadata": {
        "id": "SlU0TxUUNlYY"
      }
    },
    {
      "cell_type": "code",
      "source": [
        "# WRITE A PRG TO PRINT SUM OF THE DIGITS OF THE NUM STARTING FRM 1 (NA)\n",
        "\n",
        "a=int(input(\"ENTER THE NUMBER \"))\n",
        "b=1\n",
        "sum=0\n",
        "while(b<=a):\n",
        "  sum =sum+b\n",
        "  b=b+1\n",
        "\n",
        "\n",
        "print(sum)\n"
      ],
      "metadata": {
        "colab": {
          "base_uri": "https://localhost:8080/"
        },
        "id": "2RhN-DhVN8f2",
        "outputId": "c00cd8f4-cf5d-4450-b94c-2976ca8137b0"
      },
      "execution_count": null,
      "outputs": [
        {
          "output_type": "stream",
          "name": "stdout",
          "text": [
            "ENTER THE NUMBER 3\n",
            "6\n"
          ]
        }
      ]
    },
    {
      "cell_type": "code",
      "source": [
        "# WRITE A PRG TO PRINT SUM OF THE DIGITS OF THE NUM (NA)\n",
        "\n",
        "a=int(input(\"ENTER THE 1st DIGITS \"))\n",
        "#b=int(input(\"ENTER THE 2nd DIGITS \"))\n",
        "sum=a+a\n",
        "\n",
        "\n",
        "print(sum)\n"
      ],
      "metadata": {
        "colab": {
          "base_uri": "https://localhost:8080/"
        },
        "id": "v8xur8UaQjzZ",
        "outputId": "b5728ad9-74e1-4b22-c7e8-3ee241b8e90e"
      },
      "execution_count": null,
      "outputs": [
        {
          "output_type": "stream",
          "name": "stdout",
          "text": [
            "ENTER THE 1st DIGITS 1213\n",
            "2426\n"
          ]
        }
      ]
    },
    {
      "cell_type": "code",
      "source": [
        "# WRITE A PRG TO PRINT SUM OF THE DIGITS OF THE NUM\n",
        "\n",
        "n=int(input(\"Enter a number:\"))\n",
        "sum=0\n",
        "while(n>0):\n",
        "    rem=n%10 #R\n",
        "    sum=sum+rem\n",
        "    n=n//10  #Q (INT)\n",
        "print(\"The total sum of digits is:\",sum)"
      ],
      "metadata": {
        "colab": {
          "base_uri": "https://localhost:8080/"
        },
        "id": "Tn7ezBAAR9TH",
        "outputId": "b757d454-23c4-4bee-8b70-0f99a90aa553"
      },
      "execution_count": null,
      "outputs": [
        {
          "output_type": "stream",
          "name": "stdout",
          "text": [
            "Enter a number:12\n",
            "The total sum of digits is: 3\n"
          ]
        }
      ]
    },
    {
      "cell_type": "code",
      "source": [
        "# WRITE A PRG READ MARKS FRM USER AND DISPLAY ITS GRADE\n",
        "\n",
        "n =0\n",
        "total = 0\n",
        "\n",
        "while(n<=4):\n",
        "    marks = int(input(f\"Enter Marks {n+1} :\"))\n",
        "    n = n+1\n",
        "    total = total + marks\n",
        "average = total/5\n",
        "\n",
        "if(average>= 60):\n",
        "    print(\"GRADE: A\")\n",
        "elif(average>= 50 and average<60):\n",
        "    print(\"GRADE : B\")\n",
        "elif(average>= 40 and average<50):\n",
        "    print(\"GRADE : C\")\n",
        "else:\n",
        "    print(\"GRADE : FAIL\")"
      ],
      "metadata": {
        "colab": {
          "base_uri": "https://localhost:8080/"
        },
        "id": "qknRmUzeW07O",
        "outputId": "ba8260ed-5677-4aa6-c62d-d52aa4e48e28"
      },
      "execution_count": null,
      "outputs": [
        {
          "output_type": "stream",
          "name": "stdout",
          "text": [
            "Enter Marks 1 :60\n",
            "Enter Marks 2 :60\n",
            "Enter Marks 3 :60\n",
            "Enter Marks 4 :60\n",
            "Enter Marks 5 :60\n",
            "GRADE: A\n"
          ]
        }
      ]
    },
    {
      "cell_type": "code",
      "source": [
        "for i in range(10,1,1):\n",
        "  print(i,end=\" \")"
      ],
      "metadata": {
        "id": "LCSJL3Rof2-7"
      },
      "execution_count": null,
      "outputs": []
    },
    {
      "cell_type": "markdown",
      "source": [
        "OCTOBER - 3/10/23  PATTERN\n",
        "\n",
        "\n",
        "\n"
      ],
      "metadata": {
        "id": "ZcmozcYVlY9m"
      }
    },
    {
      "cell_type": "code",
      "source": [
        "a=int(input(\"enter a number\"))\n",
        "for x in range(0,(a+1)):\n",
        "  print(\"*\"*x)\n",
        "  print()y\n"
      ],
      "metadata": {
        "id": "lZzA-jdzl8Tm",
        "colab": {
          "base_uri": "https://localhost:8080/"
        },
        "outputId": "c5d895cc-c92b-448e-a923-4b055182207e"
      },
      "execution_count": null,
      "outputs": [
        {
          "output_type": "stream",
          "name": "stdout",
          "text": [
            "enter a number3\n",
            "\n",
            "\n",
            "*\n",
            "\n",
            "**\n",
            "\n",
            "***\n",
            "\n"
          ]
        }
      ]
    },
    {
      "cell_type": "markdown",
      "source": [
        "MODULE 2\n",
        "STRINGS-https://www.geeksforgeeks.org/python-string/?ref=shm\n",
        "---"
      ],
      "metadata": {
        "id": "nS5qoRwBsy3L"
      }
    },
    {
      "cell_type": "markdown",
      "source": [
        "*Python* Escape Charactershttps://www.w3schools.com/python/gloss_python_escape_characters.asp\n"
      ],
      "metadata": {
        "id": "w6fW1iyE2WI1"
      }
    },
    {
      "cell_type": "markdown",
      "source": [
        "Python Keywords\n",
        "https://www.w3schools.com/python/python_ref_keywords.asp\n",
        "\n",
        "\n",
        "False\n",
        "None\n",
        "True\n",
        "and\n",
        "as\n",
        "assert\n",
        "async\n",
        "await\n",
        "break\n",
        "class\n",
        "continue\n",
        "def\n",
        "del\n",
        "elif\n",
        "else\n",
        "except\n",
        "finally\n",
        "for\n",
        "from\n",
        "global\n",
        "if\n",
        "import\n",
        "in\n",
        "is\n",
        "lambda\n",
        "nonlocal\n",
        "not\n",
        "or\n",
        "pass\n",
        "raise\n",
        "return\n",
        "try\n",
        "while\n",
        "with\n",
        "yield\n",
        "\n",
        "\n"
      ],
      "metadata": {
        "id": "xW9vzemn0zoP"
      }
    },
    {
      "cell_type": "markdown",
      "source": [
        "5/10/23 - LAB\n"
      ],
      "metadata": {
        "id": "Nhl5NUncDrRb"
      }
    },
    {
      "cell_type": "markdown",
      "source": [
        "PYTHON SLICE STRING -https://www.w3schools.com/python/python_strings_slicing.asp"
      ],
      "metadata": {
        "id": "nd5QqusyGX-Q"
      }
    },
    {
      "cell_type": "markdown",
      "source": [
        "f-strings in Python -https://www.geeksforgeeks.org/formatted-string-literals-f-strings-python/\n",
        "\n"
      ],
      "metadata": {
        "id": "a2upeohlS2qC"
      }
    },
    {
      "cell_type": "markdown",
      "source": [
        "7/10/23 - LAB\n",
        "\n",
        "Python Membership and Identity Operators\n",
        "https://www.geeksforgeeks.org/python-membership-identity-operators-not-not/"
      ],
      "metadata": {
        "id": "Nnfm0Ih7N8Mk"
      }
    },
    {
      "cell_type": "code",
      "source": [
        "# PASSWORD VALIDATION CHECKER\n",
        "\n",
        "import re\n",
        "\n",
        "def is_valid_password(password):\n",
        "    # Check the length condition\n",
        "    if not (8 <= len(password) <= 14):\n",
        "        return False\n",
        "\n",
        "    # Check for at least 1 uppercase letter\n",
        "    if not any(char.isupper() for char in password):\n",
        "        return False\n",
        "\n",
        "    # Check for at least 1 special character\n",
        "    if not re.search(r'[!@#$%^&*(),.?\":{}|<>]', password):\n",
        "        return False\n",
        "\n",
        "    # Check for at least 1 digit\n",
        "    if not any(char.isdigit() for char in password):\n",
        "        return False\n",
        "\n",
        "    # If all conditions are met, the password is valid\n",
        "    return True\n",
        "\n",
        "# Take user input for the password\n",
        "password = input(\"Enter a password: \")\n",
        "\n",
        "# Check if the entered password is valid\n",
        "if is_valid_password(password):\n",
        "    print(\"Password is valid.\")\n",
        "else:\n",
        "    print(\"Password is not valid.\")\n",
        "\n"
      ],
      "metadata": {
        "id": "7Vsk92IKCiFl",
        "colab": {
          "base_uri": "https://localhost:8080/",
          "height": 391
        },
        "outputId": "3d2509a1-4620-4e9f-84e1-a26e0fb00eea"
      },
      "execution_count": null,
      "outputs": [
        {
          "output_type": "error",
          "ename": "KeyboardInterrupt",
          "evalue": "ignored",
          "traceback": [
            "\u001b[0;31m---------------------------------------------------------------------------\u001b[0m",
            "\u001b[0;31mKeyboardInterrupt\u001b[0m                         Traceback (most recent call last)",
            "\u001b[0;32m<ipython-input-7-d481f9b2aa83>\u001b[0m in \u001b[0;36m<cell line: 26>\u001b[0;34m()\u001b[0m\n\u001b[1;32m     24\u001b[0m \u001b[0;34m\u001b[0m\u001b[0m\n\u001b[1;32m     25\u001b[0m \u001b[0;31m# Take user input for the password\u001b[0m\u001b[0;34m\u001b[0m\u001b[0;34m\u001b[0m\u001b[0m\n\u001b[0;32m---> 26\u001b[0;31m \u001b[0mpassword\u001b[0m \u001b[0;34m=\u001b[0m \u001b[0minput\u001b[0m\u001b[0;34m(\u001b[0m\u001b[0;34m\"Enter a password: \"\u001b[0m\u001b[0;34m)\u001b[0m\u001b[0;34m\u001b[0m\u001b[0;34m\u001b[0m\u001b[0m\n\u001b[0m\u001b[1;32m     27\u001b[0m \u001b[0;34m\u001b[0m\u001b[0m\n\u001b[1;32m     28\u001b[0m \u001b[0;31m# Check if the entered password is valid\u001b[0m\u001b[0;34m\u001b[0m\u001b[0;34m\u001b[0m\u001b[0m\n",
            "\u001b[0;32m/usr/local/lib/python3.10/dist-packages/ipykernel/kernelbase.py\u001b[0m in \u001b[0;36mraw_input\u001b[0;34m(self, prompt)\u001b[0m\n\u001b[1;32m    849\u001b[0m                 \u001b[0;34m\"raw_input was called, but this frontend does not support input requests.\"\u001b[0m\u001b[0;34m\u001b[0m\u001b[0;34m\u001b[0m\u001b[0m\n\u001b[1;32m    850\u001b[0m             )\n\u001b[0;32m--> 851\u001b[0;31m         return self._input_request(str(prompt),\n\u001b[0m\u001b[1;32m    852\u001b[0m             \u001b[0mself\u001b[0m\u001b[0;34m.\u001b[0m\u001b[0m_parent_ident\u001b[0m\u001b[0;34m,\u001b[0m\u001b[0;34m\u001b[0m\u001b[0;34m\u001b[0m\u001b[0m\n\u001b[1;32m    853\u001b[0m             \u001b[0mself\u001b[0m\u001b[0;34m.\u001b[0m\u001b[0m_parent_header\u001b[0m\u001b[0;34m,\u001b[0m\u001b[0;34m\u001b[0m\u001b[0;34m\u001b[0m\u001b[0m\n",
            "\u001b[0;32m/usr/local/lib/python3.10/dist-packages/ipykernel/kernelbase.py\u001b[0m in \u001b[0;36m_input_request\u001b[0;34m(self, prompt, ident, parent, password)\u001b[0m\n\u001b[1;32m    893\u001b[0m             \u001b[0;32mexcept\u001b[0m \u001b[0mKeyboardInterrupt\u001b[0m\u001b[0;34m:\u001b[0m\u001b[0;34m\u001b[0m\u001b[0;34m\u001b[0m\u001b[0m\n\u001b[1;32m    894\u001b[0m                 \u001b[0;31m# re-raise KeyboardInterrupt, to truncate traceback\u001b[0m\u001b[0;34m\u001b[0m\u001b[0;34m\u001b[0m\u001b[0m\n\u001b[0;32m--> 895\u001b[0;31m                 \u001b[0;32mraise\u001b[0m \u001b[0mKeyboardInterrupt\u001b[0m\u001b[0;34m(\u001b[0m\u001b[0;34m\"Interrupted by user\"\u001b[0m\u001b[0;34m)\u001b[0m \u001b[0;32mfrom\u001b[0m \u001b[0;32mNone\u001b[0m\u001b[0;34m\u001b[0m\u001b[0;34m\u001b[0m\u001b[0m\n\u001b[0m\u001b[1;32m    896\u001b[0m             \u001b[0;32mexcept\u001b[0m \u001b[0mException\u001b[0m \u001b[0;32mas\u001b[0m \u001b[0me\u001b[0m\u001b[0;34m:\u001b[0m\u001b[0;34m\u001b[0m\u001b[0;34m\u001b[0m\u001b[0m\n\u001b[1;32m    897\u001b[0m                 \u001b[0mself\u001b[0m\u001b[0;34m.\u001b[0m\u001b[0mlog\u001b[0m\u001b[0;34m.\u001b[0m\u001b[0mwarning\u001b[0m\u001b[0;34m(\u001b[0m\u001b[0;34m\"Invalid Message:\"\u001b[0m\u001b[0;34m,\u001b[0m \u001b[0mexc_info\u001b[0m\u001b[0;34m=\u001b[0m\u001b[0;32mTrue\u001b[0m\u001b[0;34m)\u001b[0m\u001b[0;34m\u001b[0m\u001b[0;34m\u001b[0m\u001b[0m\n",
            "\u001b[0;31mKeyboardInterrupt\u001b[0m: Interrupted by user"
          ]
        }
      ]
    },
    {
      "cell_type": "code",
      "source": [],
      "metadata": {
        "id": "Gq2vMrLeUwDH"
      },
      "execution_count": null,
      "outputs": []
    },
    {
      "cell_type": "code",
      "source": [
        "password = input(\"Enter a password: \")\n",
        "length = False\n",
        "upper = False\n",
        "lower = False\n",
        "number = False\n",
        "special_char = False\n",
        "\n",
        "# Check password length\n",
        "if 8 <= len(password) <= 14:\n",
        "    length = True\n",
        "\n",
        "# Check for at least 1 uppercase letter, 1 lowercase letter, 1 digit, and 1 special character\n",
        "for char in password:\n",
        "    if char.isupper():\n",
        "        upper = True\n",
        "    if char.islower():\n",
        "        lower = True\n",
        "    if char.isdigit():\n",
        "        number = True\n",
        "    if char in \"!@#$%^&*(),.?\\\":{}|<>\":\n",
        "        special_char = True\n",
        "\n",
        "# Check if all conditions are met\n",
        "if length and upper and lower and number and special_char:\n",
        "    print(\"Password is valid.\")\n",
        "else:\n",
        "    print(\"Password is not valid.\")\n"
      ],
      "metadata": {
        "colab": {
          "base_uri": "https://localhost:8080/"
        },
        "id": "SJeNizv8Ps45",
        "outputId": "c1dc1c0f-70e2-4047-873e-347728395943"
      },
      "execution_count": null,
      "outputs": [
        {
          "output_type": "stream",
          "name": "stdout",
          "text": [
            "Enter a password: Presidency@123\n",
            "Password is valid.\n"
          ]
        }
      ]
    },
    {
      "cell_type": "code",
      "source": [
        "#str1 = 'he is not poor guy'\n",
        "#str2 = 'he is not a great guy. but he is not poor also'\n",
        "#str3 = 'poor judgement lead to this thing not the situation'\n",
        "\n",
        "a = input()\n",
        "\n",
        "CheckNotA = a.find('not')\n",
        "CheckPoorA = a.find(\"poor\")\n",
        "\n",
        "if(CheckNotA<CheckPoorA):\n",
        "    print(\"True\")\n",
        "else:\n",
        "    print(\"False\")\n",
        "\n"
      ],
      "metadata": {
        "colab": {
          "base_uri": "https://localhost:8080/"
        },
        "id": "-dMm3EKNb0LD",
        "outputId": "e405784c-b2b3-4582-e5bc-c387720bee43"
      },
      "execution_count": null,
      "outputs": [
        {
          "output_type": "stream",
          "name": "stdout",
          "text": [
            "poor judgement lead to this thing not the situation\n",
            "False\n"
          ]
        }
      ]
    },
    {
      "cell_type": "code",
      "source": [
        "a = input()\n",
        "b = input()\n",
        "c = input()\n",
        "\n",
        "CheckNotA = a.find('not')\n",
        "CheckPoorA = a.find(\"poor\")\n",
        "CheckNotB= b.find('not')\n",
        "CheckPoorB = b.find(\"poor\")\n",
        "CheckNotC = c.find('not')\n",
        "CheckPoorC = c.find(\"poor\")\n",
        "\n",
        "\n",
        "if(CheckNotA<CheckPoorA):\n",
        "    print(\"True\")\n",
        "else:\n",
        "    print(\"False\")\n",
        "\n",
        "if(CheckNotB<CheckPoorB):\n",
        "    print(\"True\")\n",
        "else:\n",
        "    print(\"False\")\n",
        "\n",
        "if(CheckNotC<CheckPoorC):\n",
        "    print(\"True\")\n",
        "else:\n",
        "    print(\"False\")"
      ],
      "metadata": {
        "colab": {
          "base_uri": "https://localhost:8080/"
        },
        "id": "saGZBU8zfx5R",
        "outputId": "010b88be-637b-443e-bad5-1630e14fb79d"
      },
      "execution_count": null,
      "outputs": [
        {
          "output_type": "stream",
          "name": "stdout",
          "text": [
            "he is not poor guy\n",
            "he is not a great guy. but he is not poor also\n",
            "poor judgement lead to this thing not the situation\n",
            "True\n",
            "True\n",
            "False\n"
          ]
        }
      ]
    },
    {
      "cell_type": "code",
      "source": [
        "# CHECK IF THE GIVEN INPUT IS PALINDROME OR NOT\n",
        "\n",
        "#RADAR\n",
        "\n",
        "def is_palindrome(input_str):\n",
        "    return input_str == input_str[::-1]\n",
        "\n",
        "str1 = input(\"Enter a string: \")\n",
        "\n",
        "if is_palindrome(str1):\n",
        "    print(\"It's a palindrome.\")\n",
        "else:\n",
        "    print(\"It's not a palindrome.\")\n",
        "\n"
      ],
      "metadata": {
        "colab": {
          "base_uri": "https://localhost:8080/"
        },
        "id": "j0r-1I5ugqEu",
        "outputId": "b322c101-ff9b-4007-fd7c-e59634b89c41"
      },
      "execution_count": null,
      "outputs": [
        {
          "output_type": "stream",
          "name": "stdout",
          "text": [
            "Enter a string: RADAR\n",
            "It's a palindrome.\n"
          ]
        }
      ]
    },
    {
      "cell_type": "markdown",
      "source": [
        "10/10/23- LAB\n"
      ],
      "metadata": {
        "id": "5PV9qEpLodx_"
      }
    },
    {
      "cell_type": "code",
      "source": [
        "# DYNAMIC PROG\n",
        "#num=3\n",
        "#*\n",
        "#12\n",
        "#***\n",
        "#1234\n",
        "\n",
        "num = int(input())\n",
        "\n",
        "for i in range(1, num+1):\n",
        "  if i % 2 == 0:\n",
        "    str1 = ''\n",
        "    for j in range(1,i+1):\n",
        "        str1 += str(j)\n",
        "         print(str1)\n",
        "  else:\n",
        "      print('*' * 1)\n",
        "\n"
      ],
      "metadata": {
        "colab": {
          "base_uri": "https://localhost:8080/",
          "height": 141
        },
        "id": "HtEtM6mX3ERw",
        "outputId": "355eb3f3-8295-4850-d599-dee17695359b"
      },
      "execution_count": null,
      "outputs": [
        {
          "output_type": "error",
          "ename": "IndentationError",
          "evalue": "ignored",
          "traceback": [
            "\u001b[0;36m  File \u001b[0;32m\"<tokenize>\"\u001b[0;36m, line \u001b[0;32m15\u001b[0m\n\u001b[0;31m    print(str1)\u001b[0m\n\u001b[0m    ^\u001b[0m\n\u001b[0;31mIndentationError\u001b[0m\u001b[0;31m:\u001b[0m unindent does not match any outer indentation level\n"
          ]
        }
      ]
    },
    {
      "cell_type": "code",
      "source": [
        "n = int(input(\"Enter the number: \"))\n",
        "\n",
        "for i in range(1, n + 1):\n",
        "    if i % 2 == 0:  # Even number\n",
        "        str1 = ''\n",
        "        for j in range(1, i + 1):\n",
        "            str1 += str(j)\n",
        "        print(str1)\n",
        "    else:  # Odd number\n",
        "        print(\"*\" * i)\n"
      ],
      "metadata": {
        "colab": {
          "base_uri": "https://localhost:8080/",
          "height": 280
        },
        "id": "wuyxB4sjCSRO",
        "outputId": "e538b222-1641-41ef-d17d-1a2357d67a92"
      },
      "execution_count": null,
      "outputs": [
        {
          "output_type": "stream",
          "name": "stdout",
          "text": [
            "Enter the number: 5\n",
            "*\n"
          ]
        },
        {
          "output_type": "error",
          "ename": "TypeError",
          "evalue": "ignored",
          "traceback": [
            "\u001b[0;31m---------------------------------------------------------------------------\u001b[0m",
            "\u001b[0;31mTypeError\u001b[0m                                 Traceback (most recent call last)",
            "\u001b[0;32m<ipython-input-25-043b25fa1480>\u001b[0m in \u001b[0;36m<cell line: 3>\u001b[0;34m()\u001b[0m\n\u001b[1;32m      5\u001b[0m         \u001b[0mstr1\u001b[0m \u001b[0;34m=\u001b[0m \u001b[0;34m''\u001b[0m\u001b[0;34m\u001b[0m\u001b[0;34m\u001b[0m\u001b[0m\n\u001b[1;32m      6\u001b[0m         \u001b[0;32mfor\u001b[0m \u001b[0mj\u001b[0m \u001b[0;32min\u001b[0m \u001b[0mrange\u001b[0m\u001b[0;34m(\u001b[0m\u001b[0;36m1\u001b[0m\u001b[0;34m,\u001b[0m \u001b[0mi\u001b[0m \u001b[0;34m+\u001b[0m \u001b[0;36m1\u001b[0m\u001b[0;34m)\u001b[0m\u001b[0;34m:\u001b[0m\u001b[0;34m\u001b[0m\u001b[0;34m\u001b[0m\u001b[0m\n\u001b[0;32m----> 7\u001b[0;31m             \u001b[0mstr1\u001b[0m \u001b[0;34m+=\u001b[0m \u001b[0mstr\u001b[0m\u001b[0;34m(\u001b[0m\u001b[0mj\u001b[0m\u001b[0;34m)\u001b[0m\u001b[0;34m\u001b[0m\u001b[0;34m\u001b[0m\u001b[0m\n\u001b[0m\u001b[1;32m      8\u001b[0m         \u001b[0mprint\u001b[0m\u001b[0;34m(\u001b[0m\u001b[0mstr1\u001b[0m\u001b[0;34m)\u001b[0m\u001b[0;34m\u001b[0m\u001b[0;34m\u001b[0m\u001b[0m\n\u001b[1;32m      9\u001b[0m     \u001b[0;32melse\u001b[0m\u001b[0;34m:\u001b[0m  \u001b[0;31m# Odd number\u001b[0m\u001b[0;34m\u001b[0m\u001b[0;34m\u001b[0m\u001b[0m\n",
            "\u001b[0;31mTypeError\u001b[0m: 'str' object is not callable"
          ]
        }
      ]
    },
    {
      "cell_type": "markdown",
      "source": [
        "12/10/23 - LAB"
      ],
      "metadata": {
        "id": "B7nlPnNNGM17"
      }
    },
    {
      "cell_type": "code",
      "source": [
        "# WRITE DOWN A PYTHON PROGRAM TO FIND THE FREQ OF EVERY WORD IN SENTENCE\n",
        "\n",
        "import string\n",
        "\n",
        "def count_words(sentence):\n",
        "    # Remove punctuation and convert the sentence to lowercase\n",
        "    sentence = sentence.lower()\n",
        "    sentence = sentence.translate(str.maketrans('', '', string.punctuation))\n",
        "\n",
        "    # Split the sentence into words\n",
        "    words = sentence.split()\n",
        "\n",
        "    # Initialize an empty dictionary to store word frequencies\n",
        "    word_freq = {}\n",
        "\n",
        "    # Count the frequency of each word\n",
        "    for word in words:\n",
        "        if word in word_freq:\n",
        "            word_freq[word] += 1\n",
        "        else:\n",
        "            word_freq[word] = 1\n",
        "\n",
        "    return word_freq\n",
        "\n",
        "# Get a sentence from the user\n",
        "sentence = input(\"Enter a sentence: \")\n",
        "\n",
        "# Count the frequency of words in the sentence\n",
        "word_frequency = count_words(sentence)\n",
        "\n",
        "# Display the word frequencies\n",
        "for word, frequency in word_frequency.items():\n",
        "    print(f\"{word}: {frequency}\")\n"
      ],
      "metadata": {
        "colab": {
          "base_uri": "https://localhost:8080/"
        },
        "id": "JJ8Ic6otO1Yp",
        "outputId": "82c4a90a-57e5-4401-a81b-381780584d82"
      },
      "execution_count": null,
      "outputs": [
        {
          "output_type": "stream",
          "name": "stdout",
          "text": [
            "Enter a sentence: THIS IS THE PYTHON PROGRAMMING AND PEOPLE ARE DOING PROGRAMMING\n",
            "this: 1\n",
            "is: 1\n",
            "the: 1\n",
            "python: 1\n",
            "programming: 2\n",
            "and: 1\n",
            "people: 1\n",
            "are: 1\n",
            "doing: 1\n"
          ]
        }
      ]
    },
    {
      "cell_type": "markdown",
      "source": [
        "Python Data Types\n",
        "\n",
        "https://www.w3schools.com/python/python_datatypes.asp\n"
      ],
      "metadata": {
        "id": "m8OznFXdVghB"
      }
    },
    {
      "cell_type": "code",
      "source": [
        "range(1,2,10)\n",
        "\n",
        "print(range)"
      ],
      "metadata": {
        "colab": {
          "base_uri": "https://localhost:8080/"
        },
        "id": "pruogfDAVt9e",
        "outputId": "b445c39b-4736-4e6b-e5af-689d35038c19"
      },
      "execution_count": null,
      "outputs": [
        {
          "output_type": "stream",
          "name": "stdout",
          "text": [
            "<class 'range'>\n"
          ]
        }
      ]
    },
    {
      "cell_type": "markdown",
      "source": [
        "17-10-23 LAB"
      ],
      "metadata": {
        "id": "Z9FVRnTKv1ZC"
      }
    },
    {
      "cell_type": "markdown",
      "source": [
        "IMMUTABLE DATATYPES - INT FLOAT STR TUPLE BOOL\n",
        "\n",
        "\n",
        "\n",
        "MUTABLE DATATYPES - SET LIST DICT\n",
        "\n"
      ],
      "metadata": {
        "id": "P-64Vbj0v6xY"
      }
    },
    {
      "cell_type": "code",
      "source": [
        "d1=(34,)\n",
        "type(d1)"
      ],
      "metadata": {
        "colab": {
          "base_uri": "https://localhost:8080/"
        },
        "id": "fUuOa324w20q",
        "outputId": "ae7a3825-a526-481a-aff4-ec2b0a201313"
      },
      "execution_count": null,
      "outputs": [
        {
          "output_type": "execute_result",
          "data": {
            "text/plain": [
              "tuple"
            ]
          },
          "metadata": {},
          "execution_count": 3
        }
      ]
    },
    {
      "cell_type": "code",
      "source": [],
      "metadata": {
        "id": "ivpFnWoyy66e"
      },
      "execution_count": null,
      "outputs": []
    }
  ]
}